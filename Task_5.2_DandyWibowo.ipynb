{
 "cells": [
  {
   "cell_type": "markdown",
   "id": "01011420",
   "metadata": {},
   "source": [
    "Import all packages and read the dataset:"
   ]
  },
  {
   "cell_type": "code",
   "execution_count": 1,
   "id": "00ef326c",
   "metadata": {},
   "outputs": [
    {
     "data": {
      "text/html": [
       "<div>\n",
       "<style scoped>\n",
       "    .dataframe tbody tr th:only-of-type {\n",
       "        vertical-align: middle;\n",
       "    }\n",
       "\n",
       "    .dataframe tbody tr th {\n",
       "        vertical-align: top;\n",
       "    }\n",
       "\n",
       "    .dataframe thead th {\n",
       "        text-align: right;\n",
       "    }\n",
       "</style>\n",
       "<table border=\"1\" class=\"dataframe\">\n",
       "  <thead>\n",
       "    <tr style=\"text-align: right;\">\n",
       "      <th></th>\n",
       "      <th>studyname</th>\n",
       "      <th>sample number</th>\n",
       "      <th>species</th>\n",
       "      <th>region</th>\n",
       "      <th>island</th>\n",
       "      <th>stage</th>\n",
       "      <th>individual id</th>\n",
       "      <th>clutch completion</th>\n",
       "      <th>date egg</th>\n",
       "      <th>culmen length (mm)</th>\n",
       "      <th>culmen depth (mm)</th>\n",
       "      <th>flipper length (mm)</th>\n",
       "      <th>body mass (g)</th>\n",
       "      <th>sex</th>\n",
       "      <th>delta 15 n (o/oo)</th>\n",
       "      <th>delta 13 c (o/oo)</th>\n",
       "      <th>comments</th>\n",
       "    </tr>\n",
       "  </thead>\n",
       "  <tbody>\n",
       "    <tr>\n",
       "      <th>0</th>\n",
       "      <td>PAL0708</td>\n",
       "      <td>1</td>\n",
       "      <td>Adelie Penguin (Pygoscelis adeliae)</td>\n",
       "      <td>Anvers</td>\n",
       "      <td>Torgersen</td>\n",
       "      <td>Adult, 1 Egg Stage</td>\n",
       "      <td>N1A1</td>\n",
       "      <td>Yes</td>\n",
       "      <td>11/11/07</td>\n",
       "      <td>39.1</td>\n",
       "      <td>18.7</td>\n",
       "      <td>181.0</td>\n",
       "      <td>3750.0</td>\n",
       "      <td>MALE</td>\n",
       "      <td>NaN</td>\n",
       "      <td>NaN</td>\n",
       "      <td>Not enough blood for isotopes.</td>\n",
       "    </tr>\n",
       "    <tr>\n",
       "      <th>1</th>\n",
       "      <td>PAL0708</td>\n",
       "      <td>2</td>\n",
       "      <td>Adelie Penguin (Pygoscelis adeliae)</td>\n",
       "      <td>Anvers</td>\n",
       "      <td>Torgersen</td>\n",
       "      <td>Adult, 1 Egg Stage</td>\n",
       "      <td>N1A2</td>\n",
       "      <td>Yes</td>\n",
       "      <td>11/11/07</td>\n",
       "      <td>39.5</td>\n",
       "      <td>17.4</td>\n",
       "      <td>186.0</td>\n",
       "      <td>3800.0</td>\n",
       "      <td>FEMALE</td>\n",
       "      <td>8.94956</td>\n",
       "      <td>-24.69454</td>\n",
       "      <td>NaN</td>\n",
       "    </tr>\n",
       "    <tr>\n",
       "      <th>2</th>\n",
       "      <td>PAL0708</td>\n",
       "      <td>3</td>\n",
       "      <td>Adelie Penguin (Pygoscelis adeliae)</td>\n",
       "      <td>Anvers</td>\n",
       "      <td>Torgersen</td>\n",
       "      <td>Adult, 1 Egg Stage</td>\n",
       "      <td>N2A1</td>\n",
       "      <td>Yes</td>\n",
       "      <td>11/16/07</td>\n",
       "      <td>40.3</td>\n",
       "      <td>18.0</td>\n",
       "      <td>195.0</td>\n",
       "      <td>3250.0</td>\n",
       "      <td>FEMALE</td>\n",
       "      <td>8.36821</td>\n",
       "      <td>-25.33302</td>\n",
       "      <td>NaN</td>\n",
       "    </tr>\n",
       "    <tr>\n",
       "      <th>3</th>\n",
       "      <td>PAL0708</td>\n",
       "      <td>4</td>\n",
       "      <td>Adelie Penguin (Pygoscelis adeliae)</td>\n",
       "      <td>Anvers</td>\n",
       "      <td>Torgersen</td>\n",
       "      <td>Adult, 1 Egg Stage</td>\n",
       "      <td>N2A2</td>\n",
       "      <td>Yes</td>\n",
       "      <td>11/16/07</td>\n",
       "      <td>NaN</td>\n",
       "      <td>NaN</td>\n",
       "      <td>NaN</td>\n",
       "      <td>NaN</td>\n",
       "      <td>NaN</td>\n",
       "      <td>NaN</td>\n",
       "      <td>NaN</td>\n",
       "      <td>Adult not sampled.</td>\n",
       "    </tr>\n",
       "    <tr>\n",
       "      <th>4</th>\n",
       "      <td>PAL0708</td>\n",
       "      <td>5</td>\n",
       "      <td>Adelie Penguin (Pygoscelis adeliae)</td>\n",
       "      <td>Anvers</td>\n",
       "      <td>Torgersen</td>\n",
       "      <td>Adult, 1 Egg Stage</td>\n",
       "      <td>N3A1</td>\n",
       "      <td>Yes</td>\n",
       "      <td>11/16/07</td>\n",
       "      <td>36.7</td>\n",
       "      <td>19.3</td>\n",
       "      <td>193.0</td>\n",
       "      <td>3450.0</td>\n",
       "      <td>FEMALE</td>\n",
       "      <td>8.76651</td>\n",
       "      <td>-25.32426</td>\n",
       "      <td>NaN</td>\n",
       "    </tr>\n",
       "  </tbody>\n",
       "</table>\n",
       "</div>"
      ],
      "text/plain": [
       "  studyname  sample number                              species  region  \\\n",
       "0   PAL0708              1  Adelie Penguin (Pygoscelis adeliae)  Anvers   \n",
       "1   PAL0708              2  Adelie Penguin (Pygoscelis adeliae)  Anvers   \n",
       "2   PAL0708              3  Adelie Penguin (Pygoscelis adeliae)  Anvers   \n",
       "3   PAL0708              4  Adelie Penguin (Pygoscelis adeliae)  Anvers   \n",
       "4   PAL0708              5  Adelie Penguin (Pygoscelis adeliae)  Anvers   \n",
       "\n",
       "      island               stage individual id clutch completion  date egg  \\\n",
       "0  Torgersen  Adult, 1 Egg Stage          N1A1               Yes  11/11/07   \n",
       "1  Torgersen  Adult, 1 Egg Stage          N1A2               Yes  11/11/07   \n",
       "2  Torgersen  Adult, 1 Egg Stage          N2A1               Yes  11/16/07   \n",
       "3  Torgersen  Adult, 1 Egg Stage          N2A2               Yes  11/16/07   \n",
       "4  Torgersen  Adult, 1 Egg Stage          N3A1               Yes  11/16/07   \n",
       "\n",
       "   culmen length (mm)  culmen depth (mm)  flipper length (mm)  body mass (g)  \\\n",
       "0                39.1               18.7                181.0         3750.0   \n",
       "1                39.5               17.4                186.0         3800.0   \n",
       "2                40.3               18.0                195.0         3250.0   \n",
       "3                 NaN                NaN                  NaN            NaN   \n",
       "4                36.7               19.3                193.0         3450.0   \n",
       "\n",
       "      sex  delta 15 n (o/oo)  delta 13 c (o/oo)  \\\n",
       "0    MALE                NaN                NaN   \n",
       "1  FEMALE            8.94956          -24.69454   \n",
       "2  FEMALE            8.36821          -25.33302   \n",
       "3     NaN                NaN                NaN   \n",
       "4  FEMALE            8.76651          -25.32426   \n",
       "\n",
       "                         comments  \n",
       "0  Not enough blood for isotopes.  \n",
       "1                             NaN  \n",
       "2                             NaN  \n",
       "3              Adult not sampled.  \n",
       "4                             NaN  "
      ]
     },
     "execution_count": 1,
     "metadata": {},
     "output_type": "execute_result"
    }
   ],
   "source": [
    "#import all the packages \n",
    "import pandas as pd \n",
    "import numpy as np \n",
    "import matplotlib.pyplot as plt \n",
    "from sklearn.preprocessing import LabelEncoder\n",
    "from sklearn.preprocessing import Normalizer \n",
    "from sklearn.model_selection import train_test_split \n",
    "from sklearn.preprocessing import label_binarize \n",
    "from sklearn.metrics import confusion_matrix, accuracy_score, roc_curve,roc_auc_score \n",
    "import sklearn.metrics \n",
    "import statsmodels.api as sm \n",
    "import plotly.express as px #for plotting the scatter plot \n",
    "import seaborn as sns #For plotting the dataset in seaborn sns.set(style='whitegrid') \n",
    "import warnings \n",
    "warnings.filterwarnings('ignore')\n",
    "\n",
    "# Read dataset\n",
    "\n",
    "data=pd.read_csv('penguins_Iter.csv')\n",
    "data.columns = data.columns.str.casefold()\n",
    "data.head(5)"
   ]
  },
  {
   "cell_type": "code",
   "execution_count": 2,
   "id": "beb1e6b2",
   "metadata": {},
   "outputs": [
    {
     "data": {
      "text/plain": [
       "studyname                0\n",
       "sample number            0\n",
       "species                  0\n",
       "region                   0\n",
       "island                   0\n",
       "stage                    0\n",
       "individual id            0\n",
       "clutch completion        0\n",
       "date egg                 0\n",
       "culmen length (mm)       2\n",
       "culmen depth (mm)        2\n",
       "flipper length (mm)      2\n",
       "body mass (g)            2\n",
       "sex                     10\n",
       "delta 15 n (o/oo)       14\n",
       "delta 13 c (o/oo)       13\n",
       "comments               318\n",
       "dtype: int64"
      ]
     },
     "execution_count": 2,
     "metadata": {},
     "output_type": "execute_result"
    }
   ],
   "source": [
    "# checking missing values\n",
    "data.isnull().sum()"
   ]
  },
  {
   "cell_type": "code",
   "execution_count": 3,
   "id": "d95f42d3",
   "metadata": {},
   "outputs": [
    {
     "name": "stdout",
     "output_type": "stream",
     "text": [
      "<class 'pandas.core.frame.DataFrame'>\n",
      "RangeIndex: 344 entries, 0 to 343\n",
      "Data columns (total 17 columns):\n",
      " #   Column               Non-Null Count  Dtype  \n",
      "---  ------               --------------  -----  \n",
      " 0   studyname            344 non-null    object \n",
      " 1   sample number        344 non-null    int64  \n",
      " 2   species              344 non-null    object \n",
      " 3   region               344 non-null    object \n",
      " 4   island               344 non-null    object \n",
      " 5   stage                344 non-null    object \n",
      " 6   individual id        344 non-null    object \n",
      " 7   clutch completion    344 non-null    object \n",
      " 8   date egg             344 non-null    object \n",
      " 9   culmen length (mm)   342 non-null    float64\n",
      " 10  culmen depth (mm)    342 non-null    float64\n",
      " 11  flipper length (mm)  342 non-null    float64\n",
      " 12  body mass (g)        342 non-null    float64\n",
      " 13  sex                  334 non-null    object \n",
      " 14  delta 15 n (o/oo)    330 non-null    float64\n",
      " 15  delta 13 c (o/oo)    331 non-null    float64\n",
      " 16  comments             26 non-null     object \n",
      "dtypes: float64(6), int64(1), object(10)\n",
      "memory usage: 45.8+ KB\n"
     ]
    }
   ],
   "source": [
    "#Check info about data\n",
    "data.info()"
   ]
  },
  {
   "cell_type": "code",
   "execution_count": 4,
   "id": "7f7391d6",
   "metadata": {},
   "outputs": [
    {
     "data": {
      "text/html": [
       "<div>\n",
       "<style scoped>\n",
       "    .dataframe tbody tr th:only-of-type {\n",
       "        vertical-align: middle;\n",
       "    }\n",
       "\n",
       "    .dataframe tbody tr th {\n",
       "        vertical-align: top;\n",
       "    }\n",
       "\n",
       "    .dataframe thead th {\n",
       "        text-align: right;\n",
       "    }\n",
       "</style>\n",
       "<table border=\"1\" class=\"dataframe\">\n",
       "  <thead>\n",
       "    <tr style=\"text-align: right;\">\n",
       "      <th></th>\n",
       "      <th>species</th>\n",
       "      <th>island</th>\n",
       "      <th>culmen length (mm)</th>\n",
       "      <th>culmen depth (mm)</th>\n",
       "      <th>flipper length (mm)</th>\n",
       "      <th>body mass (g)</th>\n",
       "      <th>sex</th>\n",
       "    </tr>\n",
       "  </thead>\n",
       "  <tbody>\n",
       "    <tr>\n",
       "      <th>0</th>\n",
       "      <td>Adelie Penguin (Pygoscelis adeliae)</td>\n",
       "      <td>Torgersen</td>\n",
       "      <td>39.1</td>\n",
       "      <td>18.7</td>\n",
       "      <td>181.0</td>\n",
       "      <td>3750.0</td>\n",
       "      <td>MALE</td>\n",
       "    </tr>\n",
       "    <tr>\n",
       "      <th>1</th>\n",
       "      <td>Adelie Penguin (Pygoscelis adeliae)</td>\n",
       "      <td>Torgersen</td>\n",
       "      <td>39.5</td>\n",
       "      <td>17.4</td>\n",
       "      <td>186.0</td>\n",
       "      <td>3800.0</td>\n",
       "      <td>FEMALE</td>\n",
       "    </tr>\n",
       "    <tr>\n",
       "      <th>2</th>\n",
       "      <td>Adelie Penguin (Pygoscelis adeliae)</td>\n",
       "      <td>Torgersen</td>\n",
       "      <td>40.3</td>\n",
       "      <td>18.0</td>\n",
       "      <td>195.0</td>\n",
       "      <td>3250.0</td>\n",
       "      <td>FEMALE</td>\n",
       "    </tr>\n",
       "    <tr>\n",
       "      <th>4</th>\n",
       "      <td>Adelie Penguin (Pygoscelis adeliae)</td>\n",
       "      <td>Torgersen</td>\n",
       "      <td>36.7</td>\n",
       "      <td>19.3</td>\n",
       "      <td>193.0</td>\n",
       "      <td>3450.0</td>\n",
       "      <td>FEMALE</td>\n",
       "    </tr>\n",
       "    <tr>\n",
       "      <th>5</th>\n",
       "      <td>Adelie Penguin (Pygoscelis adeliae)</td>\n",
       "      <td>Torgersen</td>\n",
       "      <td>39.3</td>\n",
       "      <td>20.6</td>\n",
       "      <td>190.0</td>\n",
       "      <td>3650.0</td>\n",
       "      <td>MALE</td>\n",
       "    </tr>\n",
       "  </tbody>\n",
       "</table>\n",
       "</div>"
      ],
      "text/plain": [
       "                               species     island  culmen length (mm)  \\\n",
       "0  Adelie Penguin (Pygoscelis adeliae)  Torgersen                39.1   \n",
       "1  Adelie Penguin (Pygoscelis adeliae)  Torgersen                39.5   \n",
       "2  Adelie Penguin (Pygoscelis adeliae)  Torgersen                40.3   \n",
       "4  Adelie Penguin (Pygoscelis adeliae)  Torgersen                36.7   \n",
       "5  Adelie Penguin (Pygoscelis adeliae)  Torgersen                39.3   \n",
       "\n",
       "   culmen depth (mm)  flipper length (mm)  body mass (g)     sex  \n",
       "0               18.7                181.0         3750.0    MALE  \n",
       "1               17.4                186.0         3800.0  FEMALE  \n",
       "2               18.0                195.0         3250.0  FEMALE  \n",
       "4               19.3                193.0         3450.0  FEMALE  \n",
       "5               20.6                190.0         3650.0    MALE  "
      ]
     },
     "execution_count": 4,
     "metadata": {},
     "output_type": "execute_result"
    }
   ],
   "source": [
    "# Drop some columns that will not be used for classified gender and species.\n",
    "numeric = ['species','island','culmen length (mm)', 'culmen depth (mm)', 'flipper length (mm)', 'body mass (g)','sex']\n",
    "df = data[numeric].dropna()\n",
    "df.head()"
   ]
  },
  {
   "cell_type": "code",
   "execution_count": 5,
   "id": "c6fb2ad0",
   "metadata": {},
   "outputs": [
    {
     "data": {
      "text/plain": [
       "species                0\n",
       "island                 0\n",
       "culmen length (mm)     0\n",
       "culmen depth (mm)      0\n",
       "flipper length (mm)    0\n",
       "body mass (g)          0\n",
       "sex                    0\n",
       "dtype: int64"
      ]
     },
     "execution_count": 5,
     "metadata": {},
     "output_type": "execute_result"
    }
   ],
   "source": [
    "# checking missing values\n",
    "df.isnull().sum()"
   ]
  },
  {
   "cell_type": "markdown",
   "id": "7ddb943c",
   "metadata": {},
   "source": [
    "# Generate numeric labels for the columns \"species\", \"island\" and \"sex\"."
   ]
  },
  {
   "cell_type": "code",
   "execution_count": 6,
   "id": "8f8d87f1",
   "metadata": {},
   "outputs": [],
   "source": [
    "dataset = [df]"
   ]
  },
  {
   "cell_type": "markdown",
   "id": "6d7cf207",
   "metadata": {},
   "source": [
    "#### Island columns"
   ]
  },
  {
   "cell_type": "code",
   "execution_count": 7,
   "id": "13a6c0b0",
   "metadata": {},
   "outputs": [
    {
     "data": {
      "text/plain": [
       "Biscoe       164\n",
       "Dream        123\n",
       "Torgersen     47\n",
       "Name: island, dtype: int64"
      ]
     },
     "execution_count": 7,
     "metadata": {},
     "output_type": "execute_result"
    }
   ],
   "source": [
    "df.island.value_counts()"
   ]
  },
  {
   "cell_type": "code",
   "execution_count": 8,
   "id": "d5880a60",
   "metadata": {},
   "outputs": [
    {
     "data": {
      "text/html": [
       "<div>\n",
       "<style scoped>\n",
       "    .dataframe tbody tr th:only-of-type {\n",
       "        vertical-align: middle;\n",
       "    }\n",
       "\n",
       "    .dataframe tbody tr th {\n",
       "        vertical-align: top;\n",
       "    }\n",
       "\n",
       "    .dataframe thead th {\n",
       "        text-align: right;\n",
       "    }\n",
       "</style>\n",
       "<table border=\"1\" class=\"dataframe\">\n",
       "  <thead>\n",
       "    <tr style=\"text-align: right;\">\n",
       "      <th></th>\n",
       "      <th>species</th>\n",
       "      <th>island</th>\n",
       "      <th>culmen length (mm)</th>\n",
       "      <th>culmen depth (mm)</th>\n",
       "      <th>flipper length (mm)</th>\n",
       "      <th>body mass (g)</th>\n",
       "      <th>sex</th>\n",
       "    </tr>\n",
       "  </thead>\n",
       "  <tbody>\n",
       "    <tr>\n",
       "      <th>0</th>\n",
       "      <td>Adelie Penguin (Pygoscelis adeliae)</td>\n",
       "      <td>2.0</td>\n",
       "      <td>39.1</td>\n",
       "      <td>18.7</td>\n",
       "      <td>181.0</td>\n",
       "      <td>3750.0</td>\n",
       "      <td>MALE</td>\n",
       "    </tr>\n",
       "    <tr>\n",
       "      <th>1</th>\n",
       "      <td>Adelie Penguin (Pygoscelis adeliae)</td>\n",
       "      <td>2.0</td>\n",
       "      <td>39.5</td>\n",
       "      <td>17.4</td>\n",
       "      <td>186.0</td>\n",
       "      <td>3800.0</td>\n",
       "      <td>FEMALE</td>\n",
       "    </tr>\n",
       "    <tr>\n",
       "      <th>2</th>\n",
       "      <td>Adelie Penguin (Pygoscelis adeliae)</td>\n",
       "      <td>2.0</td>\n",
       "      <td>40.3</td>\n",
       "      <td>18.0</td>\n",
       "      <td>195.0</td>\n",
       "      <td>3250.0</td>\n",
       "      <td>FEMALE</td>\n",
       "    </tr>\n",
       "    <tr>\n",
       "      <th>4</th>\n",
       "      <td>Adelie Penguin (Pygoscelis adeliae)</td>\n",
       "      <td>2.0</td>\n",
       "      <td>36.7</td>\n",
       "      <td>19.3</td>\n",
       "      <td>193.0</td>\n",
       "      <td>3450.0</td>\n",
       "      <td>FEMALE</td>\n",
       "    </tr>\n",
       "  </tbody>\n",
       "</table>\n",
       "</div>"
      ],
      "text/plain": [
       "                               species  island  culmen length (mm)  \\\n",
       "0  Adelie Penguin (Pygoscelis adeliae)     2.0                39.1   \n",
       "1  Adelie Penguin (Pygoscelis adeliae)     2.0                39.5   \n",
       "2  Adelie Penguin (Pygoscelis adeliae)     2.0                40.3   \n",
       "4  Adelie Penguin (Pygoscelis adeliae)     2.0                36.7   \n",
       "\n",
       "   culmen depth (mm)  flipper length (mm)  body mass (g)     sex  \n",
       "0               18.7                181.0         3750.0    MALE  \n",
       "1               17.4                186.0         3800.0  FEMALE  \n",
       "2               18.0                195.0         3250.0  FEMALE  \n",
       "4               19.3                193.0         3450.0  FEMALE  "
      ]
     },
     "execution_count": 8,
     "metadata": {},
     "output_type": "execute_result"
    }
   ],
   "source": [
    "# Making mapping for island columns and set to numeric labels\n",
    "island_mapping = {\"Biscoe\": 0, \"Dream\": 1, \"Torgersen\": 2}\n",
    "\n",
    "for _data in dataset:\n",
    "    _data['island'] = _data['island'].map(island_mapping).astype(float)\n",
    "    \n",
    "df.head(4)"
   ]
  },
  {
   "cell_type": "markdown",
   "id": "403a90e2",
   "metadata": {},
   "source": [
    "Species"
   ]
  },
  {
   "cell_type": "code",
   "execution_count": 9,
   "id": "b577e40a",
   "metadata": {},
   "outputs": [
    {
     "data": {
      "text/plain": [
       "Adelie Penguin (Pygoscelis adeliae)          146\n",
       "Gentoo penguin (Pygoscelis papua)            120\n",
       "Chinstrap penguin (Pygoscelis antarctica)     68\n",
       "Name: species, dtype: int64"
      ]
     },
     "execution_count": 9,
     "metadata": {},
     "output_type": "execute_result"
    }
   ],
   "source": [
    "df.species.value_counts()"
   ]
  },
  {
   "cell_type": "code",
   "execution_count": 10,
   "id": "ec80b597",
   "metadata": {},
   "outputs": [
    {
     "data": {
      "text/html": [
       "<div>\n",
       "<style scoped>\n",
       "    .dataframe tbody tr th:only-of-type {\n",
       "        vertical-align: middle;\n",
       "    }\n",
       "\n",
       "    .dataframe tbody tr th {\n",
       "        vertical-align: top;\n",
       "    }\n",
       "\n",
       "    .dataframe thead th {\n",
       "        text-align: right;\n",
       "    }\n",
       "</style>\n",
       "<table border=\"1\" class=\"dataframe\">\n",
       "  <thead>\n",
       "    <tr style=\"text-align: right;\">\n",
       "      <th></th>\n",
       "      <th>species</th>\n",
       "      <th>island</th>\n",
       "      <th>culmen length (mm)</th>\n",
       "      <th>culmen depth (mm)</th>\n",
       "      <th>flipper length (mm)</th>\n",
       "      <th>body mass (g)</th>\n",
       "      <th>sex</th>\n",
       "    </tr>\n",
       "  </thead>\n",
       "  <tbody>\n",
       "    <tr>\n",
       "      <th>0</th>\n",
       "      <td>0.0</td>\n",
       "      <td>2.0</td>\n",
       "      <td>39.1</td>\n",
       "      <td>18.7</td>\n",
       "      <td>181.0</td>\n",
       "      <td>3750.0</td>\n",
       "      <td>MALE</td>\n",
       "    </tr>\n",
       "    <tr>\n",
       "      <th>1</th>\n",
       "      <td>0.0</td>\n",
       "      <td>2.0</td>\n",
       "      <td>39.5</td>\n",
       "      <td>17.4</td>\n",
       "      <td>186.0</td>\n",
       "      <td>3800.0</td>\n",
       "      <td>FEMALE</td>\n",
       "    </tr>\n",
       "    <tr>\n",
       "      <th>2</th>\n",
       "      <td>0.0</td>\n",
       "      <td>2.0</td>\n",
       "      <td>40.3</td>\n",
       "      <td>18.0</td>\n",
       "      <td>195.0</td>\n",
       "      <td>3250.0</td>\n",
       "      <td>FEMALE</td>\n",
       "    </tr>\n",
       "    <tr>\n",
       "      <th>4</th>\n",
       "      <td>0.0</td>\n",
       "      <td>2.0</td>\n",
       "      <td>36.7</td>\n",
       "      <td>19.3</td>\n",
       "      <td>193.0</td>\n",
       "      <td>3450.0</td>\n",
       "      <td>FEMALE</td>\n",
       "    </tr>\n",
       "    <tr>\n",
       "      <th>5</th>\n",
       "      <td>0.0</td>\n",
       "      <td>2.0</td>\n",
       "      <td>39.3</td>\n",
       "      <td>20.6</td>\n",
       "      <td>190.0</td>\n",
       "      <td>3650.0</td>\n",
       "      <td>MALE</td>\n",
       "    </tr>\n",
       "    <tr>\n",
       "      <th>...</th>\n",
       "      <td>...</td>\n",
       "      <td>...</td>\n",
       "      <td>...</td>\n",
       "      <td>...</td>\n",
       "      <td>...</td>\n",
       "      <td>...</td>\n",
       "      <td>...</td>\n",
       "    </tr>\n",
       "    <tr>\n",
       "      <th>338</th>\n",
       "      <td>1.0</td>\n",
       "      <td>0.0</td>\n",
       "      <td>47.2</td>\n",
       "      <td>13.7</td>\n",
       "      <td>214.0</td>\n",
       "      <td>4925.0</td>\n",
       "      <td>FEMALE</td>\n",
       "    </tr>\n",
       "    <tr>\n",
       "      <th>340</th>\n",
       "      <td>1.0</td>\n",
       "      <td>0.0</td>\n",
       "      <td>46.8</td>\n",
       "      <td>14.3</td>\n",
       "      <td>215.0</td>\n",
       "      <td>4850.0</td>\n",
       "      <td>FEMALE</td>\n",
       "    </tr>\n",
       "    <tr>\n",
       "      <th>341</th>\n",
       "      <td>1.0</td>\n",
       "      <td>0.0</td>\n",
       "      <td>50.4</td>\n",
       "      <td>15.7</td>\n",
       "      <td>222.0</td>\n",
       "      <td>5750.0</td>\n",
       "      <td>MALE</td>\n",
       "    </tr>\n",
       "    <tr>\n",
       "      <th>342</th>\n",
       "      <td>1.0</td>\n",
       "      <td>0.0</td>\n",
       "      <td>45.2</td>\n",
       "      <td>14.8</td>\n",
       "      <td>212.0</td>\n",
       "      <td>5200.0</td>\n",
       "      <td>FEMALE</td>\n",
       "    </tr>\n",
       "    <tr>\n",
       "      <th>343</th>\n",
       "      <td>1.0</td>\n",
       "      <td>0.0</td>\n",
       "      <td>49.9</td>\n",
       "      <td>16.1</td>\n",
       "      <td>213.0</td>\n",
       "      <td>5400.0</td>\n",
       "      <td>MALE</td>\n",
       "    </tr>\n",
       "  </tbody>\n",
       "</table>\n",
       "<p>334 rows × 7 columns</p>\n",
       "</div>"
      ],
      "text/plain": [
       "     species  island  culmen length (mm)  culmen depth (mm)  \\\n",
       "0        0.0     2.0                39.1               18.7   \n",
       "1        0.0     2.0                39.5               17.4   \n",
       "2        0.0     2.0                40.3               18.0   \n",
       "4        0.0     2.0                36.7               19.3   \n",
       "5        0.0     2.0                39.3               20.6   \n",
       "..       ...     ...                 ...                ...   \n",
       "338      1.0     0.0                47.2               13.7   \n",
       "340      1.0     0.0                46.8               14.3   \n",
       "341      1.0     0.0                50.4               15.7   \n",
       "342      1.0     0.0                45.2               14.8   \n",
       "343      1.0     0.0                49.9               16.1   \n",
       "\n",
       "     flipper length (mm)  body mass (g)     sex  \n",
       "0                  181.0         3750.0    MALE  \n",
       "1                  186.0         3800.0  FEMALE  \n",
       "2                  195.0         3250.0  FEMALE  \n",
       "4                  193.0         3450.0  FEMALE  \n",
       "5                  190.0         3650.0    MALE  \n",
       "..                   ...            ...     ...  \n",
       "338                214.0         4925.0  FEMALE  \n",
       "340                215.0         4850.0  FEMALE  \n",
       "341                222.0         5750.0    MALE  \n",
       "342                212.0         5200.0  FEMALE  \n",
       "343                213.0         5400.0    MALE  \n",
       "\n",
       "[334 rows x 7 columns]"
      ]
     },
     "execution_count": 10,
     "metadata": {},
     "output_type": "execute_result"
    }
   ],
   "source": [
    "# Making mapping for species columns and set to numeric labels\n",
    "species_mapping = {\"Adelie Penguin (Pygoscelis adeliae)\": 0, \"Gentoo penguin (Pygoscelis papua)\": 1, \"Chinstrap penguin (Pygoscelis antarctica)\": 2}\n",
    "\n",
    "for _data in dataset:\n",
    "    _data['species'] = _data['species'].map(species_mapping).astype(float)\n",
    "    \n",
    "df"
   ]
  },
  {
   "cell_type": "markdown",
   "id": "27938663",
   "metadata": {},
   "source": [
    "Sex"
   ]
  },
  {
   "cell_type": "code",
   "execution_count": 11,
   "id": "6d02c696",
   "metadata": {},
   "outputs": [
    {
     "data": {
      "text/plain": [
       "MALE      168\n",
       "FEMALE    165\n",
       ".           1\n",
       "Name: sex, dtype: int64"
      ]
     },
     "execution_count": 11,
     "metadata": {},
     "output_type": "execute_result"
    }
   ],
   "source": [
    "df.sex.value_counts()"
   ]
  },
  {
   "cell_type": "markdown",
   "id": "bce40061",
   "metadata": {},
   "source": [
    "Because data gender has a missing value, we drop (.). Then, we can use this code:"
   ]
  },
  {
   "cell_type": "code",
   "execution_count": 12,
   "id": "059aa5b6",
   "metadata": {},
   "outputs": [
    {
     "data": {
      "text/plain": [
       "species                0\n",
       "island                 0\n",
       "culmen length (mm)     0\n",
       "culmen depth (mm)      0\n",
       "flipper length (mm)    0\n",
       "body mass (g)          0\n",
       "sex                    0\n",
       "dtype: int64"
      ]
     },
     "execution_count": 12,
     "metadata": {},
     "output_type": "execute_result"
    }
   ],
   "source": [
    "df['sex'].replace('.', np.nan, inplace=True)\n",
    "df.dropna(inplace=True)\n",
    "df.isnull().sum()"
   ]
  },
  {
   "cell_type": "code",
   "execution_count": 13,
   "id": "3d1d2d04",
   "metadata": {},
   "outputs": [
    {
     "data": {
      "text/plain": [
       "MALE      168\n",
       "FEMALE    165\n",
       "Name: sex, dtype: int64"
      ]
     },
     "execution_count": 13,
     "metadata": {},
     "output_type": "execute_result"
    }
   ],
   "source": [
    "df.sex.value_counts()"
   ]
  },
  {
   "cell_type": "code",
   "execution_count": 14,
   "id": "b898767e",
   "metadata": {},
   "outputs": [
    {
     "data": {
      "text/html": [
       "<div>\n",
       "<style scoped>\n",
       "    .dataframe tbody tr th:only-of-type {\n",
       "        vertical-align: middle;\n",
       "    }\n",
       "\n",
       "    .dataframe tbody tr th {\n",
       "        vertical-align: top;\n",
       "    }\n",
       "\n",
       "    .dataframe thead th {\n",
       "        text-align: right;\n",
       "    }\n",
       "</style>\n",
       "<table border=\"1\" class=\"dataframe\">\n",
       "  <thead>\n",
       "    <tr style=\"text-align: right;\">\n",
       "      <th></th>\n",
       "      <th>species</th>\n",
       "      <th>island</th>\n",
       "      <th>culmen length (mm)</th>\n",
       "      <th>culmen depth (mm)</th>\n",
       "      <th>flipper length (mm)</th>\n",
       "      <th>body mass (g)</th>\n",
       "      <th>sex</th>\n",
       "    </tr>\n",
       "  </thead>\n",
       "  <tbody>\n",
       "    <tr>\n",
       "      <th>0</th>\n",
       "      <td>0.0</td>\n",
       "      <td>2.0</td>\n",
       "      <td>39.1</td>\n",
       "      <td>18.7</td>\n",
       "      <td>181.0</td>\n",
       "      <td>3750.0</td>\n",
       "      <td>0.0</td>\n",
       "    </tr>\n",
       "    <tr>\n",
       "      <th>1</th>\n",
       "      <td>0.0</td>\n",
       "      <td>2.0</td>\n",
       "      <td>39.5</td>\n",
       "      <td>17.4</td>\n",
       "      <td>186.0</td>\n",
       "      <td>3800.0</td>\n",
       "      <td>1.0</td>\n",
       "    </tr>\n",
       "    <tr>\n",
       "      <th>2</th>\n",
       "      <td>0.0</td>\n",
       "      <td>2.0</td>\n",
       "      <td>40.3</td>\n",
       "      <td>18.0</td>\n",
       "      <td>195.0</td>\n",
       "      <td>3250.0</td>\n",
       "      <td>1.0</td>\n",
       "    </tr>\n",
       "    <tr>\n",
       "      <th>4</th>\n",
       "      <td>0.0</td>\n",
       "      <td>2.0</td>\n",
       "      <td>36.7</td>\n",
       "      <td>19.3</td>\n",
       "      <td>193.0</td>\n",
       "      <td>3450.0</td>\n",
       "      <td>1.0</td>\n",
       "    </tr>\n",
       "    <tr>\n",
       "      <th>5</th>\n",
       "      <td>0.0</td>\n",
       "      <td>2.0</td>\n",
       "      <td>39.3</td>\n",
       "      <td>20.6</td>\n",
       "      <td>190.0</td>\n",
       "      <td>3650.0</td>\n",
       "      <td>0.0</td>\n",
       "    </tr>\n",
       "  </tbody>\n",
       "</table>\n",
       "</div>"
      ],
      "text/plain": [
       "   species  island  culmen length (mm)  culmen depth (mm)  \\\n",
       "0      0.0     2.0                39.1               18.7   \n",
       "1      0.0     2.0                39.5               17.4   \n",
       "2      0.0     2.0                40.3               18.0   \n",
       "4      0.0     2.0                36.7               19.3   \n",
       "5      0.0     2.0                39.3               20.6   \n",
       "\n",
       "   flipper length (mm)  body mass (g)  sex  \n",
       "0                181.0         3750.0  0.0  \n",
       "1                186.0         3800.0  1.0  \n",
       "2                195.0         3250.0  1.0  \n",
       "4                193.0         3450.0  1.0  \n",
       "5                190.0         3650.0  0.0  "
      ]
     },
     "execution_count": 14,
     "metadata": {},
     "output_type": "execute_result"
    }
   ],
   "source": [
    "# Making mapping for sex columns and set to numeric labels\n",
    "sex_mapping = {\"MALE\": 0, \"FEMALE\": 1}\n",
    "\n",
    "for _data in dataset:\n",
    "    _data['sex'] = _data['sex'].map(sex_mapping).astype(float)\n",
    "df.head()"
   ]
  },
  {
   "cell_type": "code",
   "execution_count": 15,
   "id": "0e5040bf",
   "metadata": {},
   "outputs": [
    {
     "name": "stdout",
     "output_type": "stream",
     "text": [
      "<class 'pandas.core.frame.DataFrame'>\n",
      "Int64Index: 333 entries, 0 to 343\n",
      "Data columns (total 7 columns):\n",
      " #   Column               Non-Null Count  Dtype  \n",
      "---  ------               --------------  -----  \n",
      " 0   species              333 non-null    float64\n",
      " 1   island               333 non-null    float64\n",
      " 2   culmen length (mm)   333 non-null    float64\n",
      " 3   culmen depth (mm)    333 non-null    float64\n",
      " 4   flipper length (mm)  333 non-null    float64\n",
      " 5   body mass (g)        333 non-null    float64\n",
      " 6   sex                  333 non-null    float64\n",
      "dtypes: float64(7)\n",
      "memory usage: 20.8 KB\n"
     ]
    }
   ],
   "source": [
    "df.info()"
   ]
  },
  {
   "cell_type": "code",
   "execution_count": 16,
   "id": "ecc0f9ea",
   "metadata": {},
   "outputs": [
    {
     "data": {
      "text/plain": [
       "(333, 7)"
      ]
     },
     "execution_count": 16,
     "metadata": {},
     "output_type": "execute_result"
    }
   ],
   "source": [
    "df.shape"
   ]
  },
  {
   "cell_type": "markdown",
   "id": "b50910b3",
   "metadata": {},
   "source": [
    "# Point 2"
   ]
  },
  {
   "cell_type": "markdown",
   "id": "11c4077c",
   "metadata": {},
   "source": [
    "Divide the data set into training set and test set and compare the classifier with the test set"
   ]
  },
  {
   "cell_type": "code",
   "execution_count": 17,
   "id": "6c08f225",
   "metadata": {},
   "outputs": [
    {
     "name": "stdout",
     "output_type": "stream",
     "text": [
      "\n",
      "Shape of x_train:\n",
      "(199, 6)\n",
      "\n",
      "Shape of x_test:\n",
      "(134, 6)\n",
      "\n",
      "Shape of y_train:\n",
      "(199,)\n",
      "\n",
      "Shape of y_test:\n",
      "(134,)\n"
     ]
    }
   ],
   "source": [
    "#Splitting into testing and training data\n",
    "X=df.drop('sex', axis=1)# since these are the features we take them as x\n",
    "y=df['sex']# since sex is the output or label we'll take it as y\n",
    "X_train, X_test, y_train, y_test = train_test_split(X, y, test_size = 0.4,random_state=1) # our test set is 40%\n",
    "print(\"\\nShape of x_train:\\n{}\".format(X_train.shape))\n",
    "print(\"\\nShape of x_test:\\n{}\".format(X_test.shape))\n",
    "print(\"\\nShape of y_train:\\n{}\".format(y_train.shape))\n",
    "print(\"\\nShape of y_test:\\n{}\".format(y_test.shape))"
   ]
  },
  {
   "cell_type": "markdown",
   "id": "168a16be",
   "metadata": {},
   "source": [
    "Standarizing feature variables for optimal."
   ]
  },
  {
   "cell_type": "code",
   "execution_count": 18,
   "id": "cf3192db",
   "metadata": {},
   "outputs": [
    {
     "name": "stdout",
     "output_type": "stream",
     "text": [
      "     species  island  culmen length (mm)  culmen depth (mm)  \\\n",
      "210      2.0     1.0                50.2               18.8   \n",
      "178      2.0     1.0                50.5               18.4   \n",
      "203      2.0     1.0                51.4               19.0   \n",
      "114      0.0     0.0                39.6               20.7   \n",
      "299      1.0     0.0                45.2               16.4   \n",
      "..       ...     ...                 ...                ...   \n",
      "209      2.0     1.0                49.3               19.9   \n",
      "262      1.0     0.0                45.3               13.7   \n",
      "78       0.0     2.0                36.2               16.1   \n",
      "241      1.0     0.0                45.1               14.5   \n",
      "42       0.0     1.0                36.0               18.5   \n",
      "\n",
      "     flipper length (mm)  body mass (g)  \n",
      "210                202.0         3800.0  \n",
      "178                200.0         3400.0  \n",
      "203                201.0         3950.0  \n",
      "114                191.0         3900.0  \n",
      "299                223.0         5950.0  \n",
      "..                   ...            ...  \n",
      "209                203.0         4050.0  \n",
      "262                210.0         4300.0  \n",
      "78                 187.0         3550.0  \n",
      "241                215.0         5000.0  \n",
      "42                 186.0         3100.0  \n",
      "\n",
      "[199 rows x 6 columns]\n",
      "____________________________________________________________________________\n",
      " [[ 1.71510643  0.57333309  1.16271186  0.90154625  0.0618858  -0.51033634]\n",
      " [ 1.71510643  0.57333309  1.21633403  0.69171268 -0.07270736 -0.99365309]\n",
      " [ 1.71510643  0.57333309  1.37720054  1.00646304 -0.00541078 -0.32909256]\n",
      " ...\n",
      " [-0.98296614  1.99949917 -1.33965604 -0.51483036 -0.94756288 -0.81240931]\n",
      " [ 0.36607015 -0.85283298  0.25113498 -1.35416465  0.93674132  0.93961391]\n",
      " [-0.98296614  0.57333309 -1.37540415  0.74417107 -1.01485946 -1.35614066]]\n"
     ]
    }
   ],
   "source": [
    "from sklearn.preprocessing import StandardScaler\n",
    "sc = StandardScaler()\n",
    "scaled_x_train = sc.fit_transform(X_train)\n",
    "scaled_x_test = sc.transform(X_test)\n",
    "print(X_train)\n",
    "print(\"____________________________________________________________________________\")\n",
    "print(\"\",scaled_x_train)"
   ]
  },
  {
   "cell_type": "code",
   "execution_count": 19,
   "id": "1f14aa0b",
   "metadata": {},
   "outputs": [
    {
     "name": "stdout",
     "output_type": "stream",
     "text": [
      "     Actual values  Predicted values KNN\n",
      "65             0.0                   0.0\n",
      "276            1.0                   1.0\n",
      "186            0.0                   0.0\n",
      "198            1.0                   0.0\n",
      "293            1.0                   0.0\n",
      "..             ...                   ...\n",
      "185            0.0                   0.0\n",
      "320            1.0                   1.0\n",
      "24             0.0                   1.0\n",
      "214            1.0                   1.0\n",
      "50             1.0                   1.0\n",
      "\n",
      "[134 rows x 2 columns]\n"
     ]
    }
   ],
   "source": [
    "#KNN model\n",
    "from sklearn.neighbors import KNeighborsClassifier\n",
    "X_train=scaled_x_train\n",
    "X_test=scaled_x_test\n",
    "model1=KNeighborsClassifier(n_neighbors=3)\n",
    "model1.fit(X_train, y_train)\n",
    "y_prediction1= model1.predict(X_test)\n",
    "\n",
    "report=pd.DataFrame()\n",
    "report['Actual values']=y_test\n",
    "report['Predicted values KNN']= y_prediction1\n",
    "print(report)"
   ]
  },
  {
   "cell_type": "code",
   "execution_count": 20,
   "id": "68856b30",
   "metadata": {},
   "outputs": [
    {
     "name": "stdout",
     "output_type": "stream",
     "text": [
      "Accuracy: 0.9029850746268657\n",
      "F1-score:  0.9029850746268657\n"
     ]
    }
   ],
   "source": [
    "from sklearn import metrics\n",
    "\n",
    "accuracy = metrics.accuracy_score(y_test, y_prediction1)\n",
    "print(\"Accuracy:\",accuracy)\n",
    "print(\"F1-score: \",metrics.f1_score(y_test, y_prediction1, \n",
    "                                           pos_label='positive',\n",
    "                                           average='micro'))"
   ]
  },
  {
   "cell_type": "markdown",
   "id": "eab98754",
   "metadata": {},
   "source": [
    "# Point 3"
   ]
  },
  {
   "cell_type": "code",
   "execution_count": 21,
   "id": "26806567",
   "metadata": {},
   "outputs": [
    {
     "data": {
      "image/png": "[encoded data removed]",
      "text/plain": [
       "<Figure size 720x432 with 1 Axes>"
      ]
     },
     "metadata": {
      "needs_background": "light"
     },
     "output_type": "display_data"
    }
   ],
   "source": [
    "#Selecting an optimal K value using Elbow Method\n",
    "\n",
    "error_rate = []\n",
    "\n",
    "# Will take some time\n",
    "for i in range(1,21):\n",
    "    \n",
    "    knn = KNeighborsClassifier(n_neighbors=i)\n",
    "    knn.fit(X_train,y_train)\n",
    "    pred_i = knn.predict(X_test)\n",
    "    error_rate.append(np.mean(pred_i != y_test))\n",
    "\n",
    "plt.figure(figsize=(10,6))\n",
    "plt.plot(range(1,21),error_rate,color='blue', linestyle='dashed', marker='o',\n",
    "         markerfacecolor='red', markersize=10)\n",
    "plt.title('Error Rate vs. K Value')\n",
    "plt.xlabel('K')\n",
    "plt.ylabel('Error Rate')\n",
    "plt.show()"
   ]
  },
  {
   "cell_type": "markdown",
   "id": "9c282d13",
   "metadata": {},
   "source": [
    "From this graph, it clearly illustrates that a good value of n_neighbors is 8 point. Below, we can check the accuracy for n_neighbors for 8 point."
   ]
  },
  {
   "cell_type": "code",
   "execution_count": 22,
   "id": "a1069577",
   "metadata": {},
   "outputs": [
    {
     "name": "stdout",
     "output_type": "stream",
     "text": [
      "{0.8880597014925373: 19, 0.9029850746268657: 20, 0.8955223880597015: 18, 0.9104477611940298: 8, 0.8805970149253731: 17, 0.8731343283582089: 15}\n",
      "The optimal value for n_neighbors in the penguin gender classifier\n",
      "k: 8 \n",
      "Accuracy: 0.9104477611940298\n"
     ]
    }
   ],
   "source": [
    "# Point 3\n",
    "\n",
    "optimal_neighbors = {}\n",
    "\n",
    "for x in range(1,21):\n",
    "    knn = KNeighborsClassifier(n_neighbors=x).fit(X_train, y_train)\n",
    "    optimal_neighbors[knn.score(X_test, y_test)] = x\n",
    "\n",
    "print(optimal_neighbors)\n",
    "print(\"The optimal value for n_neighbors in the penguin gender classifier\\nk:\", optimal_neighbors.get(max(optimal_neighbors)), \"\\nAccuracy:\", max(optimal_neighbors))\n",
    "\n"
   ]
  },
  {
   "cell_type": "markdown",
   "id": "37dddcea",
   "metadata": {},
   "source": [
    "# Point 4"
   ]
  },
  {
   "cell_type": "code",
   "execution_count": 23,
   "id": "ae77adca",
   "metadata": {},
   "outputs": [
    {
     "name": "stdout",
     "output_type": "stream",
     "text": [
      "\n",
      "Shape of x_train:\n",
      "(199, 6)\n",
      "\n",
      "Shape of x_test:\n",
      "(134, 6)\n",
      "\n",
      "Shape of y_train:\n",
      "(199,)\n",
      "\n",
      "Shape of y_test:\n",
      "(134,)\n"
     ]
    }
   ],
   "source": [
    "#Splitting into testing and training data\n",
    "X=df.drop('species', axis=1)# since these are the features we take them as x\n",
    "y=df['species']# since species is the output or label we'll take it as y\n",
    "X_train, X_test, y_train, y_test = train_test_split(X, y, test_size = 0.4,random_state=1) # our test set is 40%\n",
    "print(\"\\nShape of x_train:\\n{}\".format(X_train.shape))\n",
    "print(\"\\nShape of x_test:\\n{}\".format(X_test.shape))\n",
    "print(\"\\nShape of y_train:\\n{}\".format(y_train.shape))\n",
    "print(\"\\nShape of y_test:\\n{}\".format(y_test.shape))"
   ]
  },
  {
   "cell_type": "markdown",
   "id": "225185a7",
   "metadata": {},
   "source": [
    "Standarizing feature variables"
   ]
  },
  {
   "cell_type": "code",
   "execution_count": 24,
   "id": "ffbfc05b",
   "metadata": {},
   "outputs": [
    {
     "name": "stdout",
     "output_type": "stream",
     "text": [
      "     island  culmen length (mm)  culmen depth (mm)  flipper length (mm)  \\\n",
      "210     1.0                50.2               18.8                202.0   \n",
      "178     1.0                50.5               18.4                200.0   \n",
      "203     1.0                51.4               19.0                201.0   \n",
      "114     0.0                39.6               20.7                191.0   \n",
      "299     0.0                45.2               16.4                223.0   \n",
      "..      ...                 ...                ...                  ...   \n",
      "209     1.0                49.3               19.9                203.0   \n",
      "262     0.0                45.3               13.7                210.0   \n",
      "78      2.0                36.2               16.1                187.0   \n",
      "241     0.0                45.1               14.5                215.0   \n",
      "42      1.0                36.0               18.5                186.0   \n",
      "\n",
      "     body mass (g)  sex  \n",
      "210         3800.0  0.0  \n",
      "178         3400.0  1.0  \n",
      "203         3950.0  0.0  \n",
      "114         3900.0  1.0  \n",
      "299         5950.0  0.0  \n",
      "..             ...  ...  \n",
      "209         4050.0  0.0  \n",
      "262         4300.0  1.0  \n",
      "78          3550.0  1.0  \n",
      "241         5000.0  1.0  \n",
      "42          3100.0  1.0  \n",
      "\n",
      "[199 rows x 6 columns]\n",
      "____________________________________________________________________________\n",
      " [[ 0.57333309  1.16271186  0.90154625  0.0618858  -0.51033634 -1.03581691]\n",
      " [ 0.57333309  1.21633403  0.69171268 -0.07270736 -0.99365309  0.96542158]\n",
      " [ 0.57333309  1.37720054  1.00646304 -0.00541078 -0.32909256 -1.03581691]\n",
      " ...\n",
      " [ 1.99949917 -1.33965604 -0.51483036 -0.94756288 -0.81240931  0.96542158]\n",
      " [-0.85283298  0.25113498 -1.35416465  0.93674132  0.93961391  0.96542158]\n",
      " [ 0.57333309 -1.37540415  0.74417107 -1.01485946 -1.35614066  0.96542158]]\n"
     ]
    }
   ],
   "source": [
    "from sklearn.preprocessing import StandardScaler\n",
    "sc = StandardScaler()\n",
    "scaled_x_train = sc.fit_transform(X_train)\n",
    "scaled_x_test = sc.transform(X_test)\n",
    "print(X_train)\n",
    "print(\"____________________________________________________________________________\")\n",
    "print(\"\",scaled_x_train)"
   ]
  },
  {
   "cell_type": "code",
   "execution_count": 25,
   "id": "4fa5265e",
   "metadata": {},
   "outputs": [],
   "source": [
    "#Selecting an optimal K value using Elbow Method\n",
    "\n",
    "error_rate = []\n",
    "\n",
    "# Will take some time\n",
    "for i in range(1,50):\n",
    "    \n",
    "    knn = KNeighborsClassifier(n_neighbors=i)\n",
    "    knn.fit(X_train,y_train)\n",
    "    pred_i = knn.predict(X_test)\n",
    "    error_rate.append(np.mean(pred_i != y_test))"
   ]
  },
  {
   "cell_type": "code",
   "execution_count": 26,
   "id": "01c0a157",
   "metadata": {},
   "outputs": [
    {
     "data": {
      "image/png": "[encoded data removed]",
      "text/plain": [
       "<Figure size 720x432 with 1 Axes>"
      ]
     },
     "metadata": {
      "needs_background": "light"
     },
     "output_type": "display_data"
    }
   ],
   "source": [
    "plt.figure(figsize=(10,6))\n",
    "plt.plot(range(1,50),error_rate,color='blue', linestyle='dashed', marker='o',\n",
    "         markerfacecolor='red', markersize=10)\n",
    "plt.title('Error Rate vs. K Value')\n",
    "plt.xlabel('K')\n",
    "plt.ylabel('Error Rate')\n",
    "plt.show()"
   ]
  },
  {
   "cell_type": "markdown",
   "id": "9d7dfe46",
   "metadata": {},
   "source": [
    "From this graph, it clearly illustrates that a good value of n_neighbors is 1 point. Below, we can check the accuracy for 1 point."
   ]
  },
  {
   "cell_type": "code",
   "execution_count": 27,
   "id": "9572eff1",
   "metadata": {},
   "outputs": [
    {
     "name": "stdout",
     "output_type": "stream",
     "text": [
      "The optimal value for n_neighbors in the penguin species classifier\n",
      "k: 1 \n",
      "Accuracy: 0.8208955223880597\n"
     ]
    }
   ],
   "source": [
    "optimal_neighbors = {}\n",
    "\n",
    "for x in range(1,50):\n",
    "    knn = KNeighborsClassifier(n_neighbors=x).fit(X_train, y_train)\n",
    "    optimal_neighbors[knn.score(X_test, y_test)] = x\n",
    "\n",
    "print(\"The optimal value for n_neighbors in the penguin species classifier\\nk:\", optimal_neighbors.get(max(optimal_neighbors)), \"\\nAccuracy:\", max(optimal_neighbors))"
   ]
  },
  {
   "cell_type": "markdown",
   "id": "bdbceb8e",
   "metadata": {},
   "source": [
    "Dandy Wibowo (334541)"
   ]
  }
 ],
 "metadata": {
  "kernelspec": {
   "display_name": "Python 3 (ipykernel)",
   "language": "python",
   "name": "python3"
  },
  "language_info": {
   "codemirror_mode": {
    "name": "ipython",
    "version": 3
   },
   "file_extension": ".py",
   "mimetype": "text/x-python",
   "name": "python",
   "nbconvert_exporter": "python",
   "pygments_lexer": "ipython3",
   "version": "3.9.7"
  }
 },
 "nbformat": 4,
 "nbformat_minor": 5
}
